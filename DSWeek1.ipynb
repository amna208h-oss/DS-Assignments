{
  "nbformat": 4,
  "nbformat_minor": 0,
  "metadata": {
    "colab": {
      "provenance": []
    },
    "kernelspec": {
      "name": "python3",
      "display_name": "Python 3"
    },
    "language_info": {
      "name": "python"
    }
  },
  "cells": [
    {
      "cell_type": "code",
      "execution_count": null,
      "metadata": {
        "id": "5v192njV5jE6"
      },
      "outputs": [],
      "source": [
        "import pandas as pd\n",
        "\n",
        "# Load dataset (upload Titanic/Iris CSV to your Colab or local folder)\n",
        "df = pd.read_csv(\"titanic.csv\")   # or \"iris.csv\"\n",
        "\n",
        "# Show first 10 rows\n",
        "print(df.head(10))\n"
      ]
    }
  ]
}